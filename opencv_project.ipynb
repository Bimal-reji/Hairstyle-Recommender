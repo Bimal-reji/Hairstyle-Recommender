{
 "cells": [
  {
   "cell_type": "code",
   "execution_count": 1,
   "metadata": {},
   "outputs": [],
   "source": [
    "import cv2\n",
    "import mediapipe as mp\n",
    "import numpy as np\n",
    "from sklearn.neighbors import KNeighborsClassifier\n",
    "import matplotlib.pyplot as plt\n"
   ]
  },
  {
   "cell_type": "code",
   "execution_count": 2,
   "metadata": {},
   "outputs": [],
   "source": [
    "# 🎥 Capture a photo from webcam\n",
    "cap = cv2.VideoCapture(0)\n",
    "ret, frame = cap.read()\n",
    "if ret:\n",
    "    cv2.imwrite('face.jpg', frame)\n",
    "cap.release()\n",
    "cv2.destroyAllWindows()\n"
   ]
  },
  {
   "cell_type": "code",
   "execution_count": 4,
   "metadata": {},
   "outputs": [],
   "source": [
    "# 🔍 Detect facial landmarks\n",
    "mp_face_mesh = mp.solutions.face_mesh\n",
    "face_mesh = mp_face_mesh.FaceMesh(static_image_mode=True)\n",
    "image = cv2.imread('face.jpg')\n",
    "rgb = cv2.cvtColor(image, cv2.COLOR_BGR2RGB)\n",
    "results = face_mesh.process(rgb)\n",
    "\n",
    "h, w, _ = image.shape\n",
    "landmarks = []\n",
    "if results.multi_face_landmarks:\n",
    "    for lm in results.multi_face_landmarks[0].landmark:\n",
    "        x, y = int(lm.x * w), int(lm.y * h)\n",
    "        landmarks.append((x, y))\n",
    "\n",
    "# Draw landmarks\n",
    "for (x, y) in landmarks:\n",
    "    cv2.circle(image, (x, y), 1, (0, 255, 0), -1)\n",
    "\n",
    "cv2.imshow('Landmarks', image)\n",
    "cv2.waitKey(0)\n",
    "cv2.destroyAllWindows()\n"
   ]
  },
  {
   "cell_type": "code",
   "execution_count": 7,
   "metadata": {},
   "outputs": [
    {
     "name": "stdout",
     "output_type": "stream",
     "text": [
      "Detected Face Shape: Round\n"
     ]
    }
   ],
   "source": [
    "# 🤖 Dummy classifier for face shape based on landmark ratios\n",
    "# Replace these values with real calculations from the landmarks\n",
    "example_features = [0.8, 1.0, 1.2]  # [jaw_ratio, cheek_ratio, length_ratio]\n",
    "# Feature vector format: [jaw_ratio, cheekbone_ratio, face_length_ratio]\n",
    "X_train = [\n",
    "    [0.8, 1.0, 1.2],  # Round\n",
    "    [0.9, 1.0, 1.5],  # Oval\n",
    "    [1.0, 1.1, 1.1],  # Square\n",
    "    [0.7, 1.0, 0.9],  # Heart\n",
    "    [0.6, 1.2, 1.4]   # Diamond ← NEW\n",
    "]\n",
    "\n",
    "y_train = [\n",
    "    'Round',\n",
    "    'Oval',\n",
    "    'Square',\n",
    "    'Heart',\n",
    "    'Diamond'  # ← NEW\n",
    "]\n",
    "\n",
    "\n",
    "knn = KNeighborsClassifier(n_neighbors=1)\n",
    "knn.fit(X_train, y_train)\n",
    "predicted_shape = knn.predict([example_features])[0]\n",
    "\n",
    "print(\"Detected Face Shape:\", predicted_shape)\n"
   ]
  },
  {
   "cell_type": "code",
   "execution_count": 9,
   "metadata": {},
   "outputs": [
    {
     "name": "stdout",
     "output_type": "stream",
     "text": [
      "Recommended Hairstyles:\n",
      "- Textured Crop\n",
      "- Messy Fringe\n",
      "- Angular Fringe\n",
      "- Undercut with Volume\n",
      "- Faux Hawk\n"
     ]
    }
   ],
   "source": [
    "# 💇 Suggest hairstyles based on face shape\n",
    "haircut_db = {\n",
    "    'Round': [\n",
    "        'Textured Crop',\n",
    "        'Messy Fringe',\n",
    "        'Angular Fringe',\n",
    "        'Undercut with Volume',\n",
    "        'Faux Hawk'\n",
    "    ],\n",
    "    'Oval': [\n",
    "        'Buzz Cut',\n",
    "        'Curtain Hair',\n",
    "        'Quiff',\n",
    "        'Taper Fade with Design',\n",
    "        'Bro Flow'\n",
    "    ],\n",
    "    'Square': [\n",
    "        'Pompadour',\n",
    "        'Side Part with Fade',\n",
    "        'French Crop',\n",
    "        'Ivy League Cut',\n",
    "        'Undercut with Sharp Edges'\n",
    "    ],\n",
    "    'Heart': [\n",
    "        'Messy Quiff',\n",
    "        'Low Fade with Fringe',\n",
    "        'Tapered Brush Up',\n",
    "        'Disconnected Undercut',\n",
    "        'Side Swept Bangs'\n",
    "    ],\n",
    "    'Diamond': [\n",
    "        'Layered Fringe',\n",
    "        'Brush Up with Mid Fade',\n",
    "        'Wavy Crop',\n",
    "        'Faux Hawk Fade',\n",
    "        'Slick Back'\n",
    "    ]\n",
    "}\n",
    "\n",
    "# Get suggestions for the predicted shape\n",
    "suggestions = haircut_db.get(predicted_shape, ['Classic Cut'])\n",
    "\n",
    "# Print them\n",
    "print(\"Recommended Hairstyles:\")\n",
    "for style in suggestions:\n",
    "    print('-', style)\n"
   ]
  },
  {
   "cell_type": "code",
   "execution_count": null,
   "metadata": {},
   "outputs": [],
   "source": []
  }
 ],
 "metadata": {
  "kernelspec": {
   "display_name": "base",
   "language": "python",
   "name": "python3"
  },
  "language_info": {
   "codemirror_mode": {
    "name": "ipython",
    "version": 3
   },
   "file_extension": ".py",
   "mimetype": "text/x-python",
   "name": "python",
   "nbconvert_exporter": "python",
   "pygments_lexer": "ipython3",
   "version": "3.12.7"
  }
 },
 "nbformat": 4,
 "nbformat_minor": 4
}
